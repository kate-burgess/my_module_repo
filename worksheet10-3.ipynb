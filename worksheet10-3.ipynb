{
 "cells": [
  {
   "cell_type": "markdown",
   "id": "5f331139-df91-44cb-abd8-adc372bdb780",
   "metadata": {},
   "source": [
    "<h1 align=\"center\">Worksheet 10-3</h1>"
   ]
  },
  {
   "cell_type": "markdown",
   "id": "e988d5cf-0f79-46f9-a9e8-3155ff767a3e",
   "metadata": {},
   "source": [
    "<strong>Due to the nature of this week's assignment, you will be submitting additional files besides this notebook file.  Please be sure to submit these additional files for full credit.</strong>"
   ]
  },
  {
   "cell_type": "markdown",
   "id": "663ba06a-ba08-4212-9234-f421e94fa1d5",
   "metadata": {},
   "source": [
    "<h4><strong>Section 1: Creating a Module</strong></h4>"
   ]
  },
  {
   "cell_type": "markdown",
   "id": "b9b7db2e-4381-4311-9dc0-daedf7d20892",
   "metadata": {},
   "source": [
    "1\\. Create a python file my_module.py with at least three functions/classes that will be useful to you later on.  Three suggestions are below, but feel free to create a file with functions that are useful to you.\n",
    "<ul>\n",
    "    <li>A function that generates a plot, given a function name and the range of x values</li>\n",
    "    <li>The Chooser class from the OOP lecture</li>\n",
    "    <li>Your solution to either a Project Euclid or Leetcode problem</li>\n",
    "</ul>\n",
    "\n",
    "At the end of the file, include code that will execute only if the file is executed from the command line.  In this code, include a simple test for each function or class to ensure that it runs correctly.  Submit the my_module.py file along with your notebook file."
   ]
  },
  {
   "cell_type": "markdown",
   "id": "320908e2-0aa5-4d17-9ce9-08ba4d845c77",
   "metadata": {},
   "source": [
    "2\\. In the cell below, import your module and execute each function from the modue."
   ]
  },
  {
   "cell_type": "code",
   "execution_count": 1,
   "id": "814ab0ba-8a50-4f67-ade7-b703c998ded0",
   "metadata": {},
   "outputs": [],
   "source": [
    "import my_module as myMod\n"
   ]
  },
  {
   "cell_type": "markdown",
   "id": "4a9ca471-9972-484e-b243-961c59377dfc",
   "metadata": {},
   "source": [
    "<h4><strong>Section 2: Debugging</strong></h4>"
   ]
  },
  {
   "cell_type": "markdown",
   "id": "d4a41024-c3e6-4bce-9768-54376cb56706",
   "metadata": {},
   "source": [
    "1\\. Debug your module file in VS Code.  Take a screen shot of the debugger running with the code stopped at a breakpoint.  Call the screen shot file VC_debugger.jpg and submit it to Course Site with the rest of your assignment."
   ]
  },
  {
   "cell_type": "markdown",
   "id": "8c01d999-5c38-4cd7-bb24-e20d06a30b04",
   "metadata": {},
   "source": [
    "2\\. Debug this notebook file.  Submit a screen shot showing the execution stopped at a breakpoint.  Call this screen shot file JN_debugger.jpg."
   ]
  },
  {
   "cell_type": "markdown",
   "id": "cc1a0e75-bc07-4bf2-b229-685f8f14e2fb",
   "metadata": {},
   "source": [
    "<h4><strong>Section 3: Testing</strong></h4>"
   ]
  },
  {
   "cell_type": "markdown",
   "id": "16af9219-7aec-4558-ac4c-0f9d10ed5b8c",
   "metadata": {},
   "source": [
    "1\\. Create a test file called test_my_module.py.  Use pytest to create one or more tests for each of the functions and classes in your module.  Submit the test_my_module.py file along with the rest of your assignment."
   ]
  },
  {
   "cell_type": "markdown",
   "id": "fe403bb0-02bc-40c9-838b-06635467218c",
   "metadata": {},
   "source": [
    "2\\. From the command line, run your test file using pytest.  Submit a screen shot showing the results.  Call this file my_test.jpg"
   ]
  },
  {
   "cell_type": "markdown",
   "id": "ba197d8b-73d7-47df-82b3-d8906a4c856e",
   "metadata": {},
   "source": [
    "<h4><strong>Section 4: Git</strong></h4>"
   ]
  },
  {
   "cell_type": "markdown",
   "id": "2faa66bd-ff20-438a-a2ef-166a9cb3d629",
   "metadata": {},
   "source": [
    "1\\. Place your module file, your test file, and this notebook file into a git repository locally on your computer. Submit a screen shot showing the files, log and status of the repository.  Call this screenshot commit0.jpt."
   ]
  },
  {
   "cell_type": "markdown",
   "id": "f293499c-926c-4b69-a530-b84deeb2765e",
   "metadata": {},
   "source": [
    "2\\. Create a branch off the main (master) branch and add a new function to your module and a new test to your test file.  Commit your changes.  Submit a screen shot showing the files, log and status of your repository after the commit. Call this file commit1.jpg."
   ]
  },
  {
   "cell_type": "markdown",
   "id": "c2b314b9-98b3-4047-8cb2-6b324bbecc98",
   "metadata": {},
   "source": [
    "3\\. Now merge the changes that you made into your main (master) branch.  Submit a screenshot showing the log and status of your repository. Call this file merge.jpg."
   ]
  },
  {
   "cell_type": "markdown",
   "id": "77a3df2a-b1fc-49e7-a323-99ffcbd01518",
   "metadata": {},
   "source": [
    "4\\. Create a github account if you don't already have one.  Create a remote repository and push your local repository to it.  Show a screen shot from github showing the files in place in your remote repository. Call this file github.jpg."
   ]
  },
  {
   "cell_type": "markdown",
   "id": "bb15cfab-b715-4515-bfd0-dc41f0765561",
   "metadata": {},
   "source": [
    "<h3>Survey</h3>"
   ]
  },
  {
   "cell_type": "markdown",
   "id": "9eeff577-401f-484a-a9f8-837062eabb5b",
   "metadata": {},
   "source": [
    "1\\. What did you learn in today's lecture?"
   ]
  },
  {
   "cell_type": "markdown",
   "id": "eee4d26d-e6bf-4bc2-bbce-519597568d97",
   "metadata": {},
   "source": [
    "2\\. What questions do you have?"
   ]
  },
  {
   "cell_type": "markdown",
   "id": "1c1ea537-f028-4c03-a897-6a517ed03b93",
   "metadata": {},
   "source": [
    "3\\. What would you like to learn?"
   ]
  },
  {
   "cell_type": "markdown",
   "id": "e8f0f9b5-7d65-4771-83f5-17d0b2e38517",
   "metadata": {},
   "source": [
    "<strong>When you are finished with this worksheet, save it, download it, and submit it to Course Site BEFORE LEAVING CLASS!</strong>"
   ]
  }
 ],
 "metadata": {
  "kernelspec": {
   "display_name": "Python 3",
   "language": "python",
   "name": "python3"
  },
  "language_info": {
   "codemirror_mode": {
    "name": "ipython",
    "version": 3
   },
   "file_extension": ".py",
   "mimetype": "text/x-python",
   "name": "python",
   "nbconvert_exporter": "python",
   "pygments_lexer": "ipython3",
   "version": "3.12.6"
  }
 },
 "nbformat": 4,
 "nbformat_minor": 5
}
